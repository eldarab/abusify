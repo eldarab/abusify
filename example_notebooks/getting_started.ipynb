{
 "cells": [
  {
   "cell_type": "markdown",
   "id": "c78e366b",
   "metadata": {},
   "source": [
    "# Abusify – Getting Started\n",
    "This quick‑start notebook shows how to resolve a Spotify track URL and download the MP3 via **abusify**.\n",
    "\n",
    "⚠️ Requirements\n",
    "* `pip install abusify spotdl python‑dotenv`\n",
    "* **FFmpeg** binary on your PATH\n",
    "* A `.env` file (or real environment variables) with `SPOTIFY_CLIENT_ID` and `SPOTIFY_CLIENT_SECRET`\n"
   ]
  },
  {
   "cell_type": "markdown",
   "id": "9f97bce1",
   "metadata": {},
   "source": [
    "## 1 . Install dependencies (skip if already installed)"
   ]
  },
  {
   "cell_type": "code",
   "execution_count": null,
   "id": "4e00f983",
   "metadata": {},
   "outputs": [],
   "source": [
    "!pip install --quiet abusify spotdl python-dotenv"
   ]
  },
  {
   "cell_type": "markdown",
   "id": "0b386c03",
   "metadata": {},
   "source": [
    "## 2 . Check credentials"
   ]
  },
  {
   "cell_type": "code",
   "execution_count": 1,
   "id": "299cadc6-80ee-40c0-a167-f4ee2e2d4cea",
   "metadata": {},
   "outputs": [],
   "source": [
    "import os\n",
    "\n",
    "os.environ['SPOTIFY_CLIENT_ID']=\"aba4a8c53ce54585adbcc6669a4396be\"\n",
    "os.environ['SPOTIFY_CLIENT_SECRET']=\"4efc28c542ca4d23a3d811a62f10d4c4\""
   ]
  },
  {
   "cell_type": "code",
   "execution_count": 2,
   "id": "e6d83b04",
   "metadata": {},
   "outputs": [
    {
     "name": "stdout",
     "output_type": "stream",
     "text": [
      "Credentials found ✔️\n"
     ]
    }
   ],
   "source": [
    "import os, pprint, pathlib, textwrap\n",
    "if not (os.getenv('SPOTIFY_CLIENT_ID') and os.getenv('SPOTIFY_CLIENT_SECRET')):\n",
    "    raise EnvironmentError(textwrap.dedent('''\\\n",
    "    Spotify credentials not found. Create a developer app at https://developer.spotify.com, then either:\n",
    "      • export them in this session with os.environ['SPOTIFY_CLIENT_ID']='…'\n",
    "      • or place them in a .env file next to this notebook.\n",
    "    '''))\n",
    "print('Credentials found ✔️')"
   ]
  },
  {
   "cell_type": "markdown",
   "id": "96fdee7b",
   "metadata": {},
   "source": [
    "## 3 . Resolve a track URL"
   ]
  },
  {
   "cell_type": "code",
   "execution_count": 3,
   "id": "945bb209",
   "metadata": {},
   "outputs": [
    {
     "data": {
      "text/plain": [
       "'https://open.spotify.com/track/2EqlS6tkEnglzr7tkKAAYD'"
      ]
     },
     "execution_count": 3,
     "metadata": {},
     "output_type": "execute_result"
    }
   ],
   "source": [
    "from abusify import resolve, EntityType\n",
    "track_url = resolve('Come Together', EntityType.TRACK)\n",
    "track_url"
   ]
  },
  {
   "cell_type": "markdown",
   "id": "dbaebf10",
   "metadata": {},
   "source": [
    "## 4 . Download the song"
   ]
  },
  {
   "cell_type": "code",
   "execution_count": 8,
   "id": "cfef5735",
   "metadata": {},
   "outputs": [
    {
     "ename": "LiveError",
     "evalue": "Only one live display may be active at once",
     "output_type": "error",
     "traceback": [
      "\u001b[1;31m---------------------------------------------------------------------------\u001b[0m",
      "\u001b[1;31mLiveError\u001b[0m                                 Traceback (most recent call last)",
      "Cell \u001b[1;32mIn[8], line 2\u001b[0m\n\u001b[0;32m      1\u001b[0m \u001b[38;5;28;01mfrom\u001b[39;00m \u001b[38;5;21;01mabusify\u001b[39;00m \u001b[38;5;28;01mimport\u001b[39;00m download_song\n\u001b[1;32m----> 2\u001b[0m output_path \u001b[38;5;241m=\u001b[39m \u001b[43mdownload_song\u001b[49m\u001b[43m(\u001b[49m\u001b[43mtrack_url\u001b[49m\u001b[43m,\u001b[49m\u001b[43m \u001b[49m\u001b[43mout_dir\u001b[49m\u001b[38;5;241;43m=\u001b[39;49m\u001b[38;5;124;43m'\u001b[39;49m\u001b[38;5;124;43mD:/abusify\u001b[39;49m\u001b[38;5;124;43m'\u001b[39;49m\u001b[43m)\u001b[49m\n\u001b[0;32m      3\u001b[0m \u001b[38;5;28mprint\u001b[39m(\u001b[38;5;124mf\u001b[39m\u001b[38;5;124m'\u001b[39m\u001b[38;5;124mDownloaded to: \u001b[39m\u001b[38;5;132;01m{\u001b[39;00moutput_path\u001b[38;5;132;01m}\u001b[39;00m\u001b[38;5;124m'\u001b[39m)\n",
      "File \u001b[1;32m~\\PycharmProjects\\abusify\\src\\abusify\\downloader.py:90\u001b[0m, in \u001b[0;36mdownload_song\u001b[1;34m(url, out_dir)\u001b[0m\n\u001b[0;32m     87\u001b[0m out_dir\u001b[38;5;241m.\u001b[39mmkdir(parents\u001b[38;5;241m=\u001b[39m\u001b[38;5;28;01mTrue\u001b[39;00m, exist_ok\u001b[38;5;241m=\u001b[39m\u001b[38;5;28;01mTrue\u001b[39;00m)\n\u001b[0;32m     89\u001b[0m song \u001b[38;5;241m=\u001b[39m Song\u001b[38;5;241m.\u001b[39mfrom_url(url)\n\u001b[1;32m---> 90\u001b[0m dl \u001b[38;5;241m=\u001b[39m \u001b[43m_make_downloader\u001b[49m\u001b[43m(\u001b[49m\u001b[43mout_dir\u001b[49m\u001b[43m)\u001b[49m\n\u001b[0;32m     91\u001b[0m _, path \u001b[38;5;241m=\u001b[39m dl\u001b[38;5;241m.\u001b[39mdownload_song(song)\n\u001b[0;32m     92\u001b[0m \u001b[38;5;28;01mreturn\u001b[39;00m path\n",
      "File \u001b[1;32m~\\PycharmProjects\\abusify\\src\\abusify\\downloader.py:68\u001b[0m, in \u001b[0;36m_make_downloader\u001b[1;34m(out_dir)\u001b[0m\n\u001b[0;32m     63\u001b[0m \u001b[38;5;28;01mdef\u001b[39;00m \u001b[38;5;21m_make_downloader\u001b[39m(out_dir: Path) \u001b[38;5;241m-\u001b[39m\u001b[38;5;241m>\u001b[39m Downloader:\n\u001b[0;32m     64\u001b[0m     settings \u001b[38;5;241m=\u001b[39m {\n\u001b[0;32m     65\u001b[0m         \u001b[38;5;124m\"\u001b[39m\u001b[38;5;124moutput\u001b[39m\u001b[38;5;124m\"\u001b[39m: \u001b[38;5;28mstr\u001b[39m(out_dir \u001b[38;5;241m/\u001b[39m \u001b[38;5;124m\"\u001b[39m\u001b[38;5;132;01m{artists}\u001b[39;00m\u001b[38;5;124m - \u001b[39m\u001b[38;5;132;01m{title}\u001b[39;00m\u001b[38;5;124m.\u001b[39m\u001b[38;5;124m{\u001b[39m\u001b[38;5;124moutput-ext}\u001b[39m\u001b[38;5;124m\"\u001b[39m),\n\u001b[0;32m     66\u001b[0m         \u001b[38;5;124m\"\u001b[39m\u001b[38;5;124mprogress\u001b[39m\u001b[38;5;124m\"\u001b[39m: \u001b[38;5;28;01mFalse\u001b[39;00m,  \u001b[38;5;66;03m# ← avoids LiveError in loops\u001b[39;00m\n\u001b[0;32m     67\u001b[0m     }\n\u001b[1;32m---> 68\u001b[0m     \u001b[38;5;28;01mreturn\u001b[39;00m \u001b[43mDownloader\u001b[49m\u001b[43m(\u001b[49m\u001b[43msettings\u001b[49m\u001b[43m)\u001b[49m\n",
      "File \u001b[1;32m~\\AppData\\Roaming\\Python\\Python310\\site-packages\\spotdl\\download\\downloader.py:161\u001b[0m, in \u001b[0;36mDownloader.__init__\u001b[1;34m(self, settings, loop)\u001b[0m\n\u001b[0;32m    158\u001b[0m \u001b[38;5;66;03m# semaphore is required to limit concurrent asyncio executions\u001b[39;00m\n\u001b[0;32m    159\u001b[0m \u001b[38;5;28mself\u001b[39m\u001b[38;5;241m.\u001b[39msemaphore \u001b[38;5;241m=\u001b[39m asyncio\u001b[38;5;241m.\u001b[39mSemaphore(\u001b[38;5;28mself\u001b[39m\u001b[38;5;241m.\u001b[39msettings[\u001b[38;5;124m\"\u001b[39m\u001b[38;5;124mthreads\u001b[39m\u001b[38;5;124m\"\u001b[39m])\n\u001b[1;32m--> 161\u001b[0m \u001b[38;5;28mself\u001b[39m\u001b[38;5;241m.\u001b[39mprogress_handler \u001b[38;5;241m=\u001b[39m \u001b[43mProgressHandler\u001b[49m\u001b[43m(\u001b[49m\u001b[38;5;28;43mself\u001b[39;49m\u001b[38;5;241;43m.\u001b[39;49m\u001b[43msettings\u001b[49m\u001b[43m[\u001b[49m\u001b[38;5;124;43m\"\u001b[39;49m\u001b[38;5;124;43msimple_tui\u001b[39;49m\u001b[38;5;124;43m\"\u001b[39;49m\u001b[43m]\u001b[49m\u001b[43m)\u001b[49m\n\u001b[0;32m    163\u001b[0m \u001b[38;5;66;03m# Gather already present songs\u001b[39;00m\n\u001b[0;32m    164\u001b[0m \u001b[38;5;28mself\u001b[39m\u001b[38;5;241m.\u001b[39mscan_formats \u001b[38;5;241m=\u001b[39m \u001b[38;5;28mself\u001b[39m\u001b[38;5;241m.\u001b[39msettings[\u001b[38;5;124m\"\u001b[39m\u001b[38;5;124mdetect_formats\u001b[39m\u001b[38;5;124m\"\u001b[39m] \u001b[38;5;129;01mor\u001b[39;00m [\u001b[38;5;28mself\u001b[39m\u001b[38;5;241m.\u001b[39msettings[\u001b[38;5;124m\"\u001b[39m\u001b[38;5;124mformat\u001b[39m\u001b[38;5;124m\"\u001b[39m]]\n",
      "File \u001b[1;32m~\\AppData\\Roaming\\Python\\Python310\\site-packages\\spotdl\\download\\progress_handler.py:157\u001b[0m, in \u001b[0;36mProgressHandler.__init__\u001b[1;34m(self, simple_tui, update_callback, web_ui)\u001b[0m\n\u001b[0;32m    137\u001b[0m \u001b[38;5;28mself\u001b[39m\u001b[38;5;241m.\u001b[39mrich_progress_bar \u001b[38;5;241m=\u001b[39m Progress(\n\u001b[0;32m    138\u001b[0m     SizedTextColumn(\n\u001b[0;32m    139\u001b[0m         \u001b[38;5;124m\"\u001b[39m\u001b[38;5;124m[white]\u001b[39m\u001b[38;5;132;01m{task.description}\u001b[39;00m\u001b[38;5;124m\"\u001b[39m,\n\u001b[1;32m   (...)\u001b[0m\n\u001b[0;32m    153\u001b[0m     transient\u001b[38;5;241m=\u001b[39m\u001b[38;5;28;01mTrue\u001b[39;00m,\n\u001b[0;32m    154\u001b[0m )\n\u001b[0;32m    156\u001b[0m \u001b[38;5;66;03m# Basically a wrapper for rich's: with ... as ...\u001b[39;00m\n\u001b[1;32m--> 157\u001b[0m \u001b[38;5;28;43mself\u001b[39;49m\u001b[38;5;241;43m.\u001b[39;49m\u001b[43mrich_progress_bar\u001b[49m\u001b[38;5;241;43m.\u001b[39;49m\u001b[38;5;21;43m__enter__\u001b[39;49m\u001b[43m(\u001b[49m\u001b[43m)\u001b[49m\n",
      "File \u001b[1;32m~\\AppData\\Roaming\\Python\\Python310\\site-packages\\rich\\progress.py:1182\u001b[0m, in \u001b[0;36mProgress.__enter__\u001b[1;34m(self)\u001b[0m\n\u001b[0;32m   1181\u001b[0m \u001b[38;5;28;01mdef\u001b[39;00m \u001b[38;5;21m__enter__\u001b[39m(\u001b[38;5;28mself\u001b[39m) \u001b[38;5;241m-\u001b[39m\u001b[38;5;241m>\u001b[39m Self:\n\u001b[1;32m-> 1182\u001b[0m     \u001b[38;5;28;43mself\u001b[39;49m\u001b[38;5;241;43m.\u001b[39;49m\u001b[43mstart\u001b[49m\u001b[43m(\u001b[49m\u001b[43m)\u001b[49m\n\u001b[0;32m   1183\u001b[0m     \u001b[38;5;28;01mreturn\u001b[39;00m \u001b[38;5;28mself\u001b[39m\n",
      "File \u001b[1;32m~\\AppData\\Roaming\\Python\\Python310\\site-packages\\rich\\progress.py:1173\u001b[0m, in \u001b[0;36mProgress.start\u001b[1;34m(self)\u001b[0m\n\u001b[0;32m   1171\u001b[0m \u001b[38;5;250m\u001b[39m\u001b[38;5;124;03m\"\"\"Start the progress display.\"\"\"\u001b[39;00m\n\u001b[0;32m   1172\u001b[0m \u001b[38;5;28;01mif\u001b[39;00m \u001b[38;5;129;01mnot\u001b[39;00m \u001b[38;5;28mself\u001b[39m\u001b[38;5;241m.\u001b[39mdisable:\n\u001b[1;32m-> 1173\u001b[0m     \u001b[38;5;28;43mself\u001b[39;49m\u001b[38;5;241;43m.\u001b[39;49m\u001b[43mlive\u001b[49m\u001b[38;5;241;43m.\u001b[39;49m\u001b[43mstart\u001b[49m\u001b[43m(\u001b[49m\u001b[43mrefresh\u001b[49m\u001b[38;5;241;43m=\u001b[39;49m\u001b[38;5;28;43;01mTrue\u001b[39;49;00m\u001b[43m)\u001b[49m\n",
      "File \u001b[1;32m~\\AppData\\Roaming\\Python\\Python310\\site-packages\\rich\\live.py:113\u001b[0m, in \u001b[0;36mLive.start\u001b[1;34m(self, refresh)\u001b[0m\n\u001b[0;32m    111\u001b[0m \u001b[38;5;28;01mif\u001b[39;00m \u001b[38;5;28mself\u001b[39m\u001b[38;5;241m.\u001b[39m_started:\n\u001b[0;32m    112\u001b[0m     \u001b[38;5;28;01mreturn\u001b[39;00m\n\u001b[1;32m--> 113\u001b[0m \u001b[38;5;28;43mself\u001b[39;49m\u001b[38;5;241;43m.\u001b[39;49m\u001b[43mconsole\u001b[49m\u001b[38;5;241;43m.\u001b[39;49m\u001b[43mset_live\u001b[49m\u001b[43m(\u001b[49m\u001b[38;5;28;43mself\u001b[39;49m\u001b[43m)\u001b[49m\n\u001b[0;32m    114\u001b[0m \u001b[38;5;28mself\u001b[39m\u001b[38;5;241m.\u001b[39m_started \u001b[38;5;241m=\u001b[39m \u001b[38;5;28;01mTrue\u001b[39;00m\n\u001b[0;32m    115\u001b[0m \u001b[38;5;28;01mif\u001b[39;00m \u001b[38;5;28mself\u001b[39m\u001b[38;5;241m.\u001b[39m_screen:\n",
      "File \u001b[1;32m~\\AppData\\Roaming\\Python\\Python310\\site-packages\\rich\\console.py:835\u001b[0m, in \u001b[0;36mConsole.set_live\u001b[1;34m(self, live)\u001b[0m\n\u001b[0;32m    833\u001b[0m \u001b[38;5;28;01mwith\u001b[39;00m \u001b[38;5;28mself\u001b[39m\u001b[38;5;241m.\u001b[39m_lock:\n\u001b[0;32m    834\u001b[0m     \u001b[38;5;28;01mif\u001b[39;00m \u001b[38;5;28mself\u001b[39m\u001b[38;5;241m.\u001b[39m_live \u001b[38;5;129;01mis\u001b[39;00m \u001b[38;5;129;01mnot\u001b[39;00m \u001b[38;5;28;01mNone\u001b[39;00m:\n\u001b[1;32m--> 835\u001b[0m         \u001b[38;5;28;01mraise\u001b[39;00m errors\u001b[38;5;241m.\u001b[39mLiveError(\u001b[38;5;124m\"\u001b[39m\u001b[38;5;124mOnly one live display may be active at once\u001b[39m\u001b[38;5;124m\"\u001b[39m)\n\u001b[0;32m    836\u001b[0m     \u001b[38;5;28mself\u001b[39m\u001b[38;5;241m.\u001b[39m_live \u001b[38;5;241m=\u001b[39m live\n",
      "\u001b[1;31mLiveError\u001b[0m: Only one live display may be active at once"
     ]
    }
   ],
   "source": [
    "from abusify import download_song\n",
    "output_path = download_song(track_url, out_dir='D:/abusify')\n",
    "print(f'Downloaded to: {output_path}')"
   ]
  }
 ],
 "metadata": {
  "kernelspec": {
   "display_name": "Python 3 (ipykernel)",
   "language": "python",
   "name": "python3"
  },
  "language_info": {
   "codemirror_mode": {
    "name": "ipython",
    "version": 3
   },
   "file_extension": ".py",
   "mimetype": "text/x-python",
   "name": "python",
   "nbconvert_exporter": "python",
   "pygments_lexer": "ipython3",
   "version": "3.10.9"
  }
 },
 "nbformat": 4,
 "nbformat_minor": 5
}
